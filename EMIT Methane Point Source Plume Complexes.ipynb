{
 "cells": [
  {
   "cell_type": "code",
   "execution_count": 1,
   "metadata": {},
   "outputs": [],
   "source": [
    "import re\n",
    "import pandas as pd\n",
    "import json\n",
    "import tempfile\n",
    "import boto3"
   ]
  },
  {
   "cell_type": "code",
   "execution_count": 2,
   "metadata": {},
   "outputs": [
    {
     "name": "stderr",
     "output_type": "stream",
     "text": [
      "<>:24: SyntaxWarning: invalid escape sequence '\\d'\n",
      "<>:24: SyntaxWarning: invalid escape sequence '\\d'\n",
      "C:\\Users\\Huy\\AppData\\Local\\Temp\\ipykernel_3492\\2377729862.py:24: SyntaxWarning: invalid escape sequence '\\d'\n",
      "  date = re.search(\"t\\d\\d\\d\\d\\d\\d\\d\\dt\", key).group(0)\n",
      "C:\\Users\\Huy\\AppData\\Local\\Temp\\ipykernel_3492\\2377729862.py:24: SyntaxWarning: invalid escape sequence '\\d'\n",
      "  date = re.search(\"t\\d\\d\\d\\d\\d\\d\\d\\dt\", key).group(0)\n"
     ]
    },
    {
     "ename": "ProfileNotFound",
     "evalue": "The config profile (ghg_user) could not be found",
     "output_type": "error",
     "traceback": [
      "\u001b[1;31m---------------------------------------------------------------------------\u001b[0m",
      "\u001b[1;31mProfileNotFound\u001b[0m                           Traceback (most recent call last)",
      "Cell \u001b[1;32mIn[2], line 1\u001b[0m\n\u001b[1;32m----> 1\u001b[0m session_ghgc \u001b[38;5;241m=\u001b[39m \u001b[43mboto3\u001b[49m\u001b[38;5;241;43m.\u001b[39;49m\u001b[43msession\u001b[49m\u001b[38;5;241;43m.\u001b[39;49m\u001b[43mSession\u001b[49m\u001b[43m(\u001b[49m\u001b[43mprofile_name\u001b[49m\u001b[38;5;241;43m=\u001b[39;49m\u001b[38;5;124;43m\"\u001b[39;49m\u001b[38;5;124;43mghg_user\u001b[39;49m\u001b[38;5;124;43m\"\u001b[39;49m\u001b[43m)\u001b[49m\n\u001b[0;32m      2\u001b[0m s3_client_ghgc \u001b[38;5;241m=\u001b[39m session_ghgc\u001b[38;5;241m.\u001b[39mclient(\u001b[38;5;124m\"\u001b[39m\u001b[38;5;124ms3\u001b[39m\u001b[38;5;124m\"\u001b[39m)\n\u001b[0;32m      3\u001b[0m session_veda_smce \u001b[38;5;241m=\u001b[39m boto3\u001b[38;5;241m.\u001b[39msession\u001b[38;5;241m.\u001b[39mSession()\n",
      "File \u001b[1;32mc:\\Users\\Huy\\anaconda3\\envs\\aio2024\\Lib\\site-packages\\boto3\\session.py:88\u001b[0m, in \u001b[0;36mSession.__init__\u001b[1;34m(self, aws_access_key_id, aws_secret_access_key, aws_session_token, region_name, botocore_session, profile_name)\u001b[0m\n\u001b[0;32m     83\u001b[0m     \u001b[38;5;28mself\u001b[39m\u001b[38;5;241m.\u001b[39m_session\u001b[38;5;241m.\u001b[39mset_config_variable(\u001b[38;5;124m'\u001b[39m\u001b[38;5;124mregion\u001b[39m\u001b[38;5;124m'\u001b[39m, region_name)\n\u001b[0;32m     85\u001b[0m \u001b[38;5;28mself\u001b[39m\u001b[38;5;241m.\u001b[39mresource_factory \u001b[38;5;241m=\u001b[39m ResourceFactory(\n\u001b[0;32m     86\u001b[0m     \u001b[38;5;28mself\u001b[39m\u001b[38;5;241m.\u001b[39m_session\u001b[38;5;241m.\u001b[39mget_component(\u001b[38;5;124m'\u001b[39m\u001b[38;5;124mevent_emitter\u001b[39m\u001b[38;5;124m'\u001b[39m)\n\u001b[0;32m     87\u001b[0m )\n\u001b[1;32m---> 88\u001b[0m \u001b[38;5;28;43mself\u001b[39;49m\u001b[38;5;241;43m.\u001b[39;49m\u001b[43m_setup_loader\u001b[49m\u001b[43m(\u001b[49m\u001b[43m)\u001b[49m\n\u001b[0;32m     89\u001b[0m \u001b[38;5;28mself\u001b[39m\u001b[38;5;241m.\u001b[39m_register_default_handlers()\n",
      "File \u001b[1;32mc:\\Users\\Huy\\anaconda3\\envs\\aio2024\\Lib\\site-packages\\boto3\\session.py:129\u001b[0m, in \u001b[0;36mSession._setup_loader\u001b[1;34m(self)\u001b[0m\n\u001b[0;32m    125\u001b[0m \u001b[38;5;28;01mdef\u001b[39;00m \u001b[38;5;21m_setup_loader\u001b[39m(\u001b[38;5;28mself\u001b[39m):\n\u001b[0;32m    126\u001b[0m \u001b[38;5;250m    \u001b[39m\u001b[38;5;124;03m\"\"\"\u001b[39;00m\n\u001b[0;32m    127\u001b[0m \u001b[38;5;124;03m    Setup loader paths so that we can load resources.\u001b[39;00m\n\u001b[0;32m    128\u001b[0m \u001b[38;5;124;03m    \"\"\"\u001b[39;00m\n\u001b[1;32m--> 129\u001b[0m     \u001b[38;5;28mself\u001b[39m\u001b[38;5;241m.\u001b[39m_loader \u001b[38;5;241m=\u001b[39m \u001b[38;5;28;43mself\u001b[39;49m\u001b[38;5;241;43m.\u001b[39;49m\u001b[43m_session\u001b[49m\u001b[38;5;241;43m.\u001b[39;49m\u001b[43mget_component\u001b[49m\u001b[43m(\u001b[49m\u001b[38;5;124;43m'\u001b[39;49m\u001b[38;5;124;43mdata_loader\u001b[39;49m\u001b[38;5;124;43m'\u001b[39;49m\u001b[43m)\u001b[49m\n\u001b[0;32m    130\u001b[0m     \u001b[38;5;28mself\u001b[39m\u001b[38;5;241m.\u001b[39m_loader\u001b[38;5;241m.\u001b[39msearch_paths\u001b[38;5;241m.\u001b[39mappend(\n\u001b[0;32m    131\u001b[0m         os\u001b[38;5;241m.\u001b[39mpath\u001b[38;5;241m.\u001b[39mjoin(os\u001b[38;5;241m.\u001b[39mpath\u001b[38;5;241m.\u001b[39mdirname(\u001b[38;5;18m__file__\u001b[39m), \u001b[38;5;124m'\u001b[39m\u001b[38;5;124mdata\u001b[39m\u001b[38;5;124m'\u001b[39m)\n\u001b[0;32m    132\u001b[0m     )\n",
      "File \u001b[1;32mc:\\Users\\Huy\\anaconda3\\envs\\aio2024\\Lib\\site-packages\\botocore\\session.py:802\u001b[0m, in \u001b[0;36mSession.get_component\u001b[1;34m(self, name)\u001b[0m\n\u001b[0;32m    800\u001b[0m \u001b[38;5;28;01mdef\u001b[39;00m \u001b[38;5;21mget_component\u001b[39m(\u001b[38;5;28mself\u001b[39m, name):\n\u001b[0;32m    801\u001b[0m     \u001b[38;5;28;01mtry\u001b[39;00m:\n\u001b[1;32m--> 802\u001b[0m         \u001b[38;5;28;01mreturn\u001b[39;00m \u001b[38;5;28;43mself\u001b[39;49m\u001b[38;5;241;43m.\u001b[39;49m\u001b[43m_components\u001b[49m\u001b[38;5;241;43m.\u001b[39;49m\u001b[43mget_component\u001b[49m\u001b[43m(\u001b[49m\u001b[43mname\u001b[49m\u001b[43m)\u001b[49m\n\u001b[0;32m    803\u001b[0m     \u001b[38;5;28;01mexcept\u001b[39;00m \u001b[38;5;167;01mValueError\u001b[39;00m:\n\u001b[0;32m    804\u001b[0m         \u001b[38;5;28;01mif\u001b[39;00m name \u001b[38;5;129;01min\u001b[39;00m [\u001b[38;5;124m'\u001b[39m\u001b[38;5;124mendpoint_resolver\u001b[39m\u001b[38;5;124m'\u001b[39m, \u001b[38;5;124m'\u001b[39m\u001b[38;5;124mexceptions_factory\u001b[39m\u001b[38;5;124m'\u001b[39m]:\n",
      "File \u001b[1;32mc:\\Users\\Huy\\anaconda3\\envs\\aio2024\\Lib\\site-packages\\botocore\\session.py:1140\u001b[0m, in \u001b[0;36mComponentLocator.get_component\u001b[1;34m(self, name)\u001b[0m\n\u001b[0;32m   1138\u001b[0m \u001b[38;5;28;01mif\u001b[39;00m name \u001b[38;5;129;01min\u001b[39;00m \u001b[38;5;28mself\u001b[39m\u001b[38;5;241m.\u001b[39m_deferred:\n\u001b[0;32m   1139\u001b[0m     factory \u001b[38;5;241m=\u001b[39m \u001b[38;5;28mself\u001b[39m\u001b[38;5;241m.\u001b[39m_deferred[name]\n\u001b[1;32m-> 1140\u001b[0m     \u001b[38;5;28mself\u001b[39m\u001b[38;5;241m.\u001b[39m_components[name] \u001b[38;5;241m=\u001b[39m \u001b[43mfactory\u001b[49m\u001b[43m(\u001b[49m\u001b[43m)\u001b[49m\n\u001b[0;32m   1141\u001b[0m     \u001b[38;5;66;03m# Only delete the component from the deferred dict after\u001b[39;00m\n\u001b[0;32m   1142\u001b[0m     \u001b[38;5;66;03m# successfully creating the object from the factory as well as\u001b[39;00m\n\u001b[0;32m   1143\u001b[0m     \u001b[38;5;66;03m# injecting the instantiated value into the _components dict.\u001b[39;00m\n\u001b[0;32m   1144\u001b[0m     \u001b[38;5;28;01mtry\u001b[39;00m:\n",
      "File \u001b[1;32mc:\\Users\\Huy\\anaconda3\\envs\\aio2024\\Lib\\site-packages\\botocore\\session.py:199\u001b[0m, in \u001b[0;36mSession._register_data_loader.<locals>.<lambda>\u001b[1;34m()\u001b[0m\n\u001b[0;32m    196\u001b[0m \u001b[38;5;28;01mdef\u001b[39;00m \u001b[38;5;21m_register_data_loader\u001b[39m(\u001b[38;5;28mself\u001b[39m):\n\u001b[0;32m    197\u001b[0m     \u001b[38;5;28mself\u001b[39m\u001b[38;5;241m.\u001b[39m_components\u001b[38;5;241m.\u001b[39mlazy_register_component(\n\u001b[0;32m    198\u001b[0m         \u001b[38;5;124m'\u001b[39m\u001b[38;5;124mdata_loader\u001b[39m\u001b[38;5;124m'\u001b[39m,\n\u001b[1;32m--> 199\u001b[0m         \u001b[38;5;28;01mlambda\u001b[39;00m: create_loader(\u001b[38;5;28;43mself\u001b[39;49m\u001b[38;5;241;43m.\u001b[39;49m\u001b[43mget_config_variable\u001b[49m\u001b[43m(\u001b[49m\u001b[38;5;124;43m'\u001b[39;49m\u001b[38;5;124;43mdata_path\u001b[39;49m\u001b[38;5;124;43m'\u001b[39;49m\u001b[43m)\u001b[49m),\n\u001b[0;32m    200\u001b[0m     )\n",
      "File \u001b[1;32mc:\\Users\\Huy\\anaconda3\\envs\\aio2024\\Lib\\site-packages\\botocore\\session.py:323\u001b[0m, in \u001b[0;36mSession.get_config_variable\u001b[1;34m(self, logical_name, methods)\u001b[0m\n\u001b[0;32m    319\u001b[0m \u001b[38;5;28;01mif\u001b[39;00m methods \u001b[38;5;129;01mis\u001b[39;00m \u001b[38;5;129;01mnot\u001b[39;00m \u001b[38;5;28;01mNone\u001b[39;00m:\n\u001b[0;32m    320\u001b[0m     \u001b[38;5;28;01mreturn\u001b[39;00m \u001b[38;5;28mself\u001b[39m\u001b[38;5;241m.\u001b[39m_get_config_variable_with_custom_methods(\n\u001b[0;32m    321\u001b[0m         logical_name, methods\n\u001b[0;32m    322\u001b[0m     )\n\u001b[1;32m--> 323\u001b[0m \u001b[38;5;28;01mreturn\u001b[39;00m \u001b[38;5;28;43mself\u001b[39;49m\u001b[38;5;241;43m.\u001b[39;49m\u001b[43mget_component\u001b[49m\u001b[43m(\u001b[49m\u001b[38;5;124;43m'\u001b[39;49m\u001b[38;5;124;43mconfig_store\u001b[39;49m\u001b[38;5;124;43m'\u001b[39;49m\u001b[43m)\u001b[49m\u001b[38;5;241;43m.\u001b[39;49m\u001b[43mget_config_variable\u001b[49m\u001b[43m(\u001b[49m\n\u001b[0;32m    324\u001b[0m \u001b[43m    \u001b[49m\u001b[43mlogical_name\u001b[49m\n\u001b[0;32m    325\u001b[0m \u001b[43m\u001b[49m\u001b[43m)\u001b[49m\n",
      "File \u001b[1;32mc:\\Users\\Huy\\anaconda3\\envs\\aio2024\\Lib\\site-packages\\botocore\\configprovider.py:488\u001b[0m, in \u001b[0;36mConfigValueStore.get_config_variable\u001b[1;34m(self, logical_name)\u001b[0m\n\u001b[0;32m    486\u001b[0m     \u001b[38;5;28;01mreturn\u001b[39;00m \u001b[38;5;28;01mNone\u001b[39;00m\n\u001b[0;32m    487\u001b[0m provider \u001b[38;5;241m=\u001b[39m \u001b[38;5;28mself\u001b[39m\u001b[38;5;241m.\u001b[39m_mapping[logical_name]\n\u001b[1;32m--> 488\u001b[0m \u001b[38;5;28;01mreturn\u001b[39;00m \u001b[43mprovider\u001b[49m\u001b[38;5;241;43m.\u001b[39;49m\u001b[43mprovide\u001b[49m\u001b[43m(\u001b[49m\u001b[43m)\u001b[49m\n",
      "File \u001b[1;32mc:\\Users\\Huy\\anaconda3\\envs\\aio2024\\Lib\\site-packages\\botocore\\configprovider.py:694\u001b[0m, in \u001b[0;36mChainProvider.provide\u001b[1;34m(self)\u001b[0m\n\u001b[0;32m    687\u001b[0m \u001b[38;5;250m\u001b[39m\u001b[38;5;124;03m\"\"\"Provide the value from the first provider to return non-None.\u001b[39;00m\n\u001b[0;32m    688\u001b[0m \n\u001b[0;32m    689\u001b[0m \u001b[38;5;124;03mEach provider in the chain has its provide method called. The first\u001b[39;00m\n\u001b[0;32m    690\u001b[0m \u001b[38;5;124;03mone in the chain to return a non-None value is the returned from the\u001b[39;00m\n\u001b[0;32m    691\u001b[0m \u001b[38;5;124;03mChainProvider. When no non-None value is found, None is returned.\u001b[39;00m\n\u001b[0;32m    692\u001b[0m \u001b[38;5;124;03m\"\"\"\u001b[39;00m\n\u001b[0;32m    693\u001b[0m \u001b[38;5;28;01mfor\u001b[39;00m provider \u001b[38;5;129;01min\u001b[39;00m \u001b[38;5;28mself\u001b[39m\u001b[38;5;241m.\u001b[39m_providers:\n\u001b[1;32m--> 694\u001b[0m     value \u001b[38;5;241m=\u001b[39m \u001b[43mprovider\u001b[49m\u001b[38;5;241;43m.\u001b[39;49m\u001b[43mprovide\u001b[49m\u001b[43m(\u001b[49m\u001b[43m)\u001b[49m\n\u001b[0;32m    695\u001b[0m     \u001b[38;5;28;01mif\u001b[39;00m value \u001b[38;5;129;01mis\u001b[39;00m \u001b[38;5;129;01mnot\u001b[39;00m \u001b[38;5;28;01mNone\u001b[39;00m:\n\u001b[0;32m    696\u001b[0m         \u001b[38;5;28;01mreturn\u001b[39;00m \u001b[38;5;28mself\u001b[39m\u001b[38;5;241m.\u001b[39m_convert_type(value)\n",
      "File \u001b[1;32mc:\\Users\\Huy\\anaconda3\\envs\\aio2024\\Lib\\site-packages\\botocore\\configprovider.py:781\u001b[0m, in \u001b[0;36mScopedConfigProvider.provide\u001b[1;34m(self)\u001b[0m\n\u001b[0;32m    779\u001b[0m \u001b[38;5;28;01mdef\u001b[39;00m \u001b[38;5;21mprovide\u001b[39m(\u001b[38;5;28mself\u001b[39m):\n\u001b[0;32m    780\u001b[0m \u001b[38;5;250m    \u001b[39m\u001b[38;5;124;03m\"\"\"Provide a value from a config file property.\"\"\"\u001b[39;00m\n\u001b[1;32m--> 781\u001b[0m     scoped_config \u001b[38;5;241m=\u001b[39m \u001b[38;5;28;43mself\u001b[39;49m\u001b[38;5;241;43m.\u001b[39;49m\u001b[43m_session\u001b[49m\u001b[38;5;241;43m.\u001b[39;49m\u001b[43mget_scoped_config\u001b[49m\u001b[43m(\u001b[49m\u001b[43m)\u001b[49m\n\u001b[0;32m    782\u001b[0m     \u001b[38;5;28;01mif\u001b[39;00m \u001b[38;5;28misinstance\u001b[39m(\u001b[38;5;28mself\u001b[39m\u001b[38;5;241m.\u001b[39m_config_var_name, \u001b[38;5;28mtuple\u001b[39m):\n\u001b[0;32m    783\u001b[0m         section_config \u001b[38;5;241m=\u001b[39m scoped_config\u001b[38;5;241m.\u001b[39mget(\u001b[38;5;28mself\u001b[39m\u001b[38;5;241m.\u001b[39m_config_var_name[\u001b[38;5;241m0\u001b[39m])\n",
      "File \u001b[1;32mc:\\Users\\Huy\\anaconda3\\envs\\aio2024\\Lib\\site-packages\\botocore\\session.py:422\u001b[0m, in \u001b[0;36mSession.get_scoped_config\u001b[1;34m(self)\u001b[0m\n\u001b[0;32m    417\u001b[0m     \u001b[38;5;28;01mreturn\u001b[39;00m profile_map\u001b[38;5;241m.\u001b[39mget(\u001b[38;5;124m'\u001b[39m\u001b[38;5;124mdefault\u001b[39m\u001b[38;5;124m'\u001b[39m, {})\n\u001b[0;32m    418\u001b[0m \u001b[38;5;28;01melif\u001b[39;00m profile_name \u001b[38;5;129;01mnot\u001b[39;00m \u001b[38;5;129;01min\u001b[39;00m profile_map:\n\u001b[0;32m    419\u001b[0m     \u001b[38;5;66;03m# Otherwise if they specified a profile, it has to\u001b[39;00m\n\u001b[0;32m    420\u001b[0m     \u001b[38;5;66;03m# exist (even if it's the default profile) otherwise\u001b[39;00m\n\u001b[0;32m    421\u001b[0m     \u001b[38;5;66;03m# we complain.\u001b[39;00m\n\u001b[1;32m--> 422\u001b[0m     \u001b[38;5;28;01mraise\u001b[39;00m ProfileNotFound(profile\u001b[38;5;241m=\u001b[39mprofile_name)\n\u001b[0;32m    423\u001b[0m \u001b[38;5;28;01melse\u001b[39;00m:\n\u001b[0;32m    424\u001b[0m     \u001b[38;5;28;01mreturn\u001b[39;00m profile_map[profile_name]\n",
      "\u001b[1;31mProfileNotFound\u001b[0m: The config profile (ghg_user) could not be found"
     ]
    }
   ],
   "source": [
    "session_ghgc = boto3.session.Session(profile_name=\"ghg_user\")\n",
    "s3_client_ghgc = session_ghgc.client(\"s3\")\n",
    "session_veda_smce = boto3.session.Session()\n",
    "s3_client_veda_smce = session_veda_smce.client(\"s3\")\n",
    "\n",
    "# Since the plume emissions were already COGs, we just had to transform their naming convention to be stored in the STAC collection.\n",
    "SOURCE_BUCKET_NAME = \"ghgc-data-staging-uah\"\n",
    "TARGET_BUCKET_NAME = \"ghgc-data-store-dev\"\n",
    "\n",
    "\n",
    "keys = []\n",
    "resp = s3_client_ghgc.list_objects_v2(Bucket=SOURCE_BUCKET_NAME)\n",
    "for obj in resp[\"Contents\"]:\n",
    "    if \"l3\" in obj[\"Key\"]:\n",
    "        keys.append(obj[\"Key\"])\n",
    "\n",
    "for key in keys:\n",
    "    s3_obj = s3_client_ghgc.get_object(Bucket=SOURCE_BUCKET_NAME, Key=key)[\n",
    "        \"Body\"\n",
    "    ]\n",
    "    filename = key.split(\"/\")[-1]\n",
    "    filename_elements = re.split(\"[_ .]\", filename)\n",
    "\n",
    "    date = re.search(\"t\\d\\d\\d\\d\\d\\d\\d\\dt\", key).group(0)\n",
    "    filename_elements.insert(-1, date[1:-1])\n",
    "    filename_elements.pop()\n",
    "\n",
    "    cog_filename = \"_\".join(filename_elements)\n",
    "    # # add extension\n",
    "    cog_filename = f\"{cog_filename}.tif\"\n",
    "    s3_client_veda_smce.upload_fileobj(\n",
    "        Fileobj=s3_obj,\n",
    "        Bucket=TARGET_BUCKET_NAME,\n",
    "        Key=f\"plum_data/{cog_filename}\",\n",
    "    )"
   ]
  }
 ],
 "metadata": {
  "kernelspec": {
   "display_name": "aio2024",
   "language": "python",
   "name": "python3"
  },
  "language_info": {
   "codemirror_mode": {
    "name": "ipython",
    "version": 3
   },
   "file_extension": ".py",
   "mimetype": "text/x-python",
   "name": "python",
   "nbconvert_exporter": "python",
   "pygments_lexer": "ipython3",
   "version": "3.12.4"
  }
 },
 "nbformat": 4,
 "nbformat_minor": 2
}
